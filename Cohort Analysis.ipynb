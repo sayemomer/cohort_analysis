{
 "cells": [
  {
   "cell_type": "code",
   "execution_count": 2,
   "metadata": {
    "scrolled": true
   },
   "outputs": [
    {
     "name": "stdout",
     "output_type": "stream",
     "text": [
      "   Unnamed: 0  InvoiceNo StockCode                      Description  Quantity  \\\n",
      "0      416792     572558     22745       POPPY'S PLAYHOUSE BEDROOM          6   \n",
      "1      482904     577485     23196    VINTAGE LEAF MAGNETIC NOTEPAD         1   \n",
      "2      263743     560034     23299     FOOD COVER WITH BEADS SET 2          6   \n",
      "3      495549     578307    72349B  SET/6 PURPLE BUTTERFLY T-LIGHTS         1   \n",
      "4      204384     554656     21756         BATH BUILDING BLOCK WORD         3   \n",
      "\n",
      "           InvoiceDate  UnitPrice  CustomerID         Country  \n",
      "0  2011-10-25 08:26:00       2.10       14286  United Kingdom  \n",
      "1  2011-11-20 11:56:00       1.45       16360  United Kingdom  \n",
      "2  2011-07-14 13:35:00       3.75       13933  United Kingdom  \n",
      "3  2011-11-23 15:53:00       2.10       17290  United Kingdom  \n",
      "4  2011-05-25 13:36:00       5.95       17663  United Kingdom  \n"
     ]
    }
   ],
   "source": [
    "#Import the data\n",
    "\n",
    "import pandas as pd\n",
    "online = pd.read_csv('online.csv')\n",
    "print(online.head())"
   ]
  },
  {
   "cell_type": "code",
   "execution_count": 3,
   "metadata": {
    "scrolled": false
   },
   "outputs": [
    {
     "name": "stdout",
     "output_type": "stream",
     "text": [
      "       Unnamed: 0  InvoiceNo StockCode                         Description  \\\n",
      "0          416792     572558     22745          POPPY'S PLAYHOUSE BEDROOM    \n",
      "1          482904     577485     23196       VINTAGE LEAF MAGNETIC NOTEPAD   \n",
      "2          263743     560034     23299        FOOD COVER WITH BEADS SET 2    \n",
      "3          495549     578307    72349B     SET/6 PURPLE BUTTERFLY T-LIGHTS   \n",
      "4          204384     554656     21756            BATH BUILDING BLOCK WORD   \n",
      "...           ...        ...       ...                                 ...   \n",
      "70859      448575     575063     22804   PINK HANGING HEART T-LIGHT HOLDER   \n",
      "70860       19970     537963     21733    RED HANGING HEART T-LIGHT HOLDER   \n",
      "70861      264154     560089     23238   SET OF 4 KNICK KNACK TINS LONDON    \n",
      "70862      199822     554103    85123A  WHITE HANGING HEART T-LIGHT HOLDER   \n",
      "70863      312243     564342     22910   PAPER CHAIN KIT VINTAGE CHRISTMAS   \n",
      "\n",
      "       Quantity          InvoiceDate  UnitPrice  CustomerID         Country  \\\n",
      "0             6  2011-10-25 08:26:00       2.10       14286  United Kingdom   \n",
      "1             1  2011-11-20 11:56:00       1.45       16360  United Kingdom   \n",
      "2             6  2011-07-14 13:35:00       3.75       13933  United Kingdom   \n",
      "3             1  2011-11-23 15:53:00       2.10       17290  United Kingdom   \n",
      "4             3  2011-05-25 13:36:00       5.95       17663  United Kingdom   \n",
      "...         ...                  ...        ...         ...             ...   \n",
      "70859         1  2011-11-08 12:32:00       2.95       16764  United Kingdom   \n",
      "70860        12  2010-12-09 11:30:00       2.95       13369  United Kingdom   \n",
      "70861         1  2011-07-14 16:45:00       4.15       12748  United Kingdom   \n",
      "70862         2  2011-05-22 13:51:00       2.95       15555  United Kingdom   \n",
      "70863         2  2011-08-24 14:53:00       2.95       16340  United Kingdom   \n",
      "\n",
      "      InvoiceDay  \n",
      "0     2011-10-25  \n",
      "1     2011-11-20  \n",
      "2     2011-07-14  \n",
      "3     2011-11-23  \n",
      "4     2011-05-25  \n",
      "...          ...  \n",
      "70859 2011-11-08  \n",
      "70860 2010-12-09  \n",
      "70861 2011-07-14  \n",
      "70862 2011-05-22  \n",
      "70863 2011-08-24  \n",
      "\n",
      "[70864 rows x 10 columns]\n"
     ]
    }
   ],
   "source": [
    "#remove the time from InvoiceDate\n",
    "\n",
    "import datetime as dt\n",
    "def get_day(x): return dt.datetime(x.year,x.month,x.day)\n",
    "cdate = pd.to_datetime(online['InvoiceDate'])\n",
    "online['InvoiceDay'] = cdate.apply(get_day)\n",
    "print(online)"
   ]
  },
  {
   "cell_type": "code",
   "execution_count": 4,
   "metadata": {},
   "outputs": [
    {
     "name": "stdout",
     "output_type": "stream",
     "text": [
      "0       2011-10-25\n",
      "1       2011-11-20\n",
      "2       2011-07-14\n",
      "3       2011-11-23\n",
      "4       2011-05-25\n",
      "           ...    \n",
      "70816   2011-10-14\n",
      "70817   2011-12-05\n",
      "70848   2011-02-23\n",
      "70857   2011-12-06\n",
      "70860   2010-12-09\n",
      "Name: InvoiceDay, Length: 15619, dtype: datetime64[ns]\n"
     ]
    }
   ],
   "source": [
    "grouping = online.groupby('CustomerID')['InvoiceDay']\n",
    "print(grouping.head())"
   ]
  },
  {
   "cell_type": "code",
   "execution_count": 5,
   "metadata": {
    "scrolled": true
   },
   "outputs": [
    {
     "name": "stdout",
     "output_type": "stream",
     "text": [
      "   Unnamed: 0  InvoiceNo StockCode                      Description  Quantity  \\\n",
      "0      416792     572558     22745       POPPY'S PLAYHOUSE BEDROOM          6   \n",
      "1      482904     577485     23196    VINTAGE LEAF MAGNETIC NOTEPAD         1   \n",
      "2      263743     560034     23299     FOOD COVER WITH BEADS SET 2          6   \n",
      "3      495549     578307    72349B  SET/6 PURPLE BUTTERFLY T-LIGHTS         1   \n",
      "4      204384     554656     21756         BATH BUILDING BLOCK WORD         3   \n",
      "\n",
      "           InvoiceDate  UnitPrice  CustomerID         Country InvoiceDay  \\\n",
      "0  2011-10-25 08:26:00       2.10       14286  United Kingdom 2011-10-25   \n",
      "1  2011-11-20 11:56:00       1.45       16360  United Kingdom 2011-11-20   \n",
      "2  2011-07-14 13:35:00       3.75       13933  United Kingdom 2011-07-14   \n",
      "3  2011-11-23 15:53:00       2.10       17290  United Kingdom 2011-11-23   \n",
      "4  2011-05-25 13:36:00       5.95       17663  United Kingdom 2011-05-25   \n",
      "\n",
      "   CohortDay  \n",
      "0 2011-04-11  \n",
      "1 2011-09-12  \n",
      "2 2011-07-14  \n",
      "3 2011-11-23  \n",
      "4 2011-02-25  \n"
     ]
    }
   ],
   "source": [
    "online['CohortDay'] = grouping.transform('min')\n",
    "print(online.head())"
   ]
  },
  {
   "cell_type": "code",
   "execution_count": 6,
   "metadata": {},
   "outputs": [
    {
     "name": "stdout",
     "output_type": "stream",
     "text": [
      "   Unnamed: 0  InvoiceNo StockCode                      Description  Quantity  \\\n",
      "0      416792     572558     22745       POPPY'S PLAYHOUSE BEDROOM          6   \n",
      "1      482904     577485     23196    VINTAGE LEAF MAGNETIC NOTEPAD         1   \n",
      "2      263743     560034     23299     FOOD COVER WITH BEADS SET 2          6   \n",
      "3      495549     578307    72349B  SET/6 PURPLE BUTTERFLY T-LIGHTS         1   \n",
      "4      204384     554656     21756         BATH BUILDING BLOCK WORD         3   \n",
      "\n",
      "           InvoiceDate  UnitPrice  CustomerID         Country InvoiceDay  \\\n",
      "0  2011-10-25 08:26:00       2.10       14286  United Kingdom 2011-10-25   \n",
      "1  2011-11-20 11:56:00       1.45       16360  United Kingdom 2011-11-20   \n",
      "2  2011-07-14 13:35:00       3.75       13933  United Kingdom 2011-07-14   \n",
      "3  2011-11-23 15:53:00       2.10       17290  United Kingdom 2011-11-23   \n",
      "4  2011-05-25 13:36:00       5.95       17663  United Kingdom 2011-05-25   \n",
      "\n",
      "   CohortDay  CohortIndex  \n",
      "0 2011-04-11          195  \n",
      "1 2011-09-12           69  \n",
      "2 2011-07-14            1  \n",
      "3 2011-11-23            1  \n",
      "4 2011-02-25           91  \n"
     ]
    }
   ],
   "source": [
    "def get_date_int(df, column):\n",
    "    year = df[column].dt.year\n",
    "    month = df[column].dt.month\n",
    "    day = df[column].dt.day\n",
    "    return year, month, day\n",
    "    \n",
    "invoice_year, invoice_month, invoice_day = get_date_int(online, 'InvoiceDay')\n",
    "\n",
    "cohort_year, cohort_month, cohort_day = get_date_int(online, 'CohortDay')\n",
    "\n",
    "years_diff = invoice_year - cohort_year\n",
    "months_diff = invoice_month - cohort_month\n",
    "days_diff = invoice_day - cohort_day\n",
    "\n",
    "online['CohortIndex'] = years_diff * 365 + months_diff * 30 + days_diff + 1\n",
    "print(online.head())\n"
   ]
  },
  {
   "cell_type": "code",
   "execution_count": 16,
   "metadata": {},
   "outputs": [
    {
     "ename": "AttributeError",
     "evalue": "'DataFrame' object has no attribute 'unique'",
     "output_type": "error",
     "traceback": [
      "\u001b[0;31m---------------------------------------------------------------------------\u001b[0m",
      "\u001b[0;31mAttributeError\u001b[0m                            Traceback (most recent call last)",
      "\u001b[0;32m<ipython-input-16-1f97a017c13c>\u001b[0m in \u001b[0;36m<module>\u001b[0;34m\u001b[0m\n\u001b[0;32m----> 1\u001b[0;31m \u001b[0mcohort_data\u001b[0m \u001b[0;34m=\u001b[0m \u001b[0monline\u001b[0m\u001b[0;34m.\u001b[0m\u001b[0mgroupby\u001b[0m\u001b[0;34m(\u001b[0m\u001b[0;34m'CustomerID'\u001b[0m\u001b[0;34m)\u001b[0m\u001b[0;34m.\u001b[0m\u001b[0mapply\u001b[0m\u001b[0;34m(\u001b[0m\u001b[0mpd\u001b[0m\u001b[0;34m.\u001b[0m\u001b[0mSeries\u001b[0m\u001b[0;34m.\u001b[0m\u001b[0mnunique\u001b[0m\u001b[0;34m)\u001b[0m\u001b[0;34m.\u001b[0m\u001b[0mreset_index\u001b[0m\u001b[0;34m(\u001b[0m\u001b[0;34m)\u001b[0m\u001b[0;34m\u001b[0m\u001b[0;34m\u001b[0m\u001b[0m\n\u001b[0m\u001b[1;32m      2\u001b[0m \u001b[0mcohort_counts\u001b[0m \u001b[0;34m=\u001b[0m \u001b[0mcohort_data\u001b[0m\u001b[0;34m.\u001b[0m\u001b[0mpivot\u001b[0m\u001b[0;34m(\u001b[0m\u001b[0mindex\u001b[0m\u001b[0;34m=\u001b[0m\u001b[0;34m'CohortMonth'\u001b[0m\u001b[0;34m,\u001b[0m \u001b[0mcolumns\u001b[0m\u001b[0;34m=\u001b[0m\u001b[0;34m'CohortIndex'\u001b[0m\u001b[0;34m,\u001b[0m \u001b[0mvalues\u001b[0m\u001b[0;34m=\u001b[0m\u001b[0;34m'CustomerID'\u001b[0m\u001b[0;34m)\u001b[0m\u001b[0;34m\u001b[0m\u001b[0;34m\u001b[0m\u001b[0m\n",
      "\u001b[0;32m/usr/local/lib/python3.8/dist-packages/pandas/core/groupby/groupby.py\u001b[0m in \u001b[0;36mapply\u001b[0;34m(self, func, *args, **kwargs)\u001b[0m\n\u001b[1;32m    857\u001b[0m         \u001b[0;32mwith\u001b[0m \u001b[0moption_context\u001b[0m\u001b[0;34m(\u001b[0m\u001b[0;34m\"mode.chained_assignment\"\u001b[0m\u001b[0;34m,\u001b[0m \u001b[0;32mNone\u001b[0m\u001b[0;34m)\u001b[0m\u001b[0;34m:\u001b[0m\u001b[0;34m\u001b[0m\u001b[0;34m\u001b[0m\u001b[0m\n\u001b[1;32m    858\u001b[0m             \u001b[0;32mtry\u001b[0m\u001b[0;34m:\u001b[0m\u001b[0;34m\u001b[0m\u001b[0;34m\u001b[0m\u001b[0m\n\u001b[0;32m--> 859\u001b[0;31m                 \u001b[0mresult\u001b[0m \u001b[0;34m=\u001b[0m \u001b[0mself\u001b[0m\u001b[0;34m.\u001b[0m\u001b[0m_python_apply_general\u001b[0m\u001b[0;34m(\u001b[0m\u001b[0mf\u001b[0m\u001b[0;34m,\u001b[0m \u001b[0mself\u001b[0m\u001b[0;34m.\u001b[0m\u001b[0m_selected_obj\u001b[0m\u001b[0;34m)\u001b[0m\u001b[0;34m\u001b[0m\u001b[0;34m\u001b[0m\u001b[0m\n\u001b[0m\u001b[1;32m    860\u001b[0m             \u001b[0;32mexcept\u001b[0m \u001b[0mTypeError\u001b[0m\u001b[0;34m:\u001b[0m\u001b[0;34m\u001b[0m\u001b[0;34m\u001b[0m\u001b[0m\n\u001b[1;32m    861\u001b[0m                 \u001b[0;31m# gh-20949\u001b[0m\u001b[0;34m\u001b[0m\u001b[0;34m\u001b[0m\u001b[0;34m\u001b[0m\u001b[0m\n",
      "\u001b[0;32m/usr/local/lib/python3.8/dist-packages/pandas/core/groupby/groupby.py\u001b[0m in \u001b[0;36m_python_apply_general\u001b[0;34m(self, f, data)\u001b[0m\n\u001b[1;32m    890\u001b[0m             \u001b[0mdata\u001b[0m \u001b[0mafter\u001b[0m \u001b[0mapplying\u001b[0m \u001b[0mf\u001b[0m\u001b[0;34m\u001b[0m\u001b[0;34m\u001b[0m\u001b[0m\n\u001b[1;32m    891\u001b[0m         \"\"\"\n\u001b[0;32m--> 892\u001b[0;31m         \u001b[0mkeys\u001b[0m\u001b[0;34m,\u001b[0m \u001b[0mvalues\u001b[0m\u001b[0;34m,\u001b[0m \u001b[0mmutated\u001b[0m \u001b[0;34m=\u001b[0m \u001b[0mself\u001b[0m\u001b[0;34m.\u001b[0m\u001b[0mgrouper\u001b[0m\u001b[0;34m.\u001b[0m\u001b[0mapply\u001b[0m\u001b[0;34m(\u001b[0m\u001b[0mf\u001b[0m\u001b[0;34m,\u001b[0m \u001b[0mdata\u001b[0m\u001b[0;34m,\u001b[0m \u001b[0mself\u001b[0m\u001b[0;34m.\u001b[0m\u001b[0maxis\u001b[0m\u001b[0;34m)\u001b[0m\u001b[0;34m\u001b[0m\u001b[0;34m\u001b[0m\u001b[0m\n\u001b[0m\u001b[1;32m    893\u001b[0m \u001b[0;34m\u001b[0m\u001b[0m\n\u001b[1;32m    894\u001b[0m         return self._wrap_applied_output(\n",
      "\u001b[0;32m/usr/local/lib/python3.8/dist-packages/pandas/core/groupby/ops.py\u001b[0m in \u001b[0;36mapply\u001b[0;34m(self, f, data, axis)\u001b[0m\n\u001b[1;32m    211\u001b[0m             \u001b[0;31m# group might be modified\u001b[0m\u001b[0;34m\u001b[0m\u001b[0;34m\u001b[0m\u001b[0;34m\u001b[0m\u001b[0m\n\u001b[1;32m    212\u001b[0m             \u001b[0mgroup_axes\u001b[0m \u001b[0;34m=\u001b[0m \u001b[0mgroup\u001b[0m\u001b[0;34m.\u001b[0m\u001b[0maxes\u001b[0m\u001b[0;34m\u001b[0m\u001b[0;34m\u001b[0m\u001b[0m\n\u001b[0;32m--> 213\u001b[0;31m             \u001b[0mres\u001b[0m \u001b[0;34m=\u001b[0m \u001b[0mf\u001b[0m\u001b[0;34m(\u001b[0m\u001b[0mgroup\u001b[0m\u001b[0;34m)\u001b[0m\u001b[0;34m\u001b[0m\u001b[0;34m\u001b[0m\u001b[0m\n\u001b[0m\u001b[1;32m    214\u001b[0m             \u001b[0;32mif\u001b[0m \u001b[0;32mnot\u001b[0m \u001b[0m_is_indexed_like\u001b[0m\u001b[0;34m(\u001b[0m\u001b[0mres\u001b[0m\u001b[0;34m,\u001b[0m \u001b[0mgroup_axes\u001b[0m\u001b[0;34m)\u001b[0m\u001b[0;34m:\u001b[0m\u001b[0;34m\u001b[0m\u001b[0;34m\u001b[0m\u001b[0m\n\u001b[1;32m    215\u001b[0m                 \u001b[0mmutated\u001b[0m \u001b[0;34m=\u001b[0m \u001b[0;32mTrue\u001b[0m\u001b[0;34m\u001b[0m\u001b[0;34m\u001b[0m\u001b[0m\n",
      "\u001b[0;32m/usr/local/lib/python3.8/dist-packages/pandas/core/base.py\u001b[0m in \u001b[0;36mnunique\u001b[0;34m(self, dropna)\u001b[0m\n\u001b[1;32m   1301\u001b[0m         \u001b[0;36m4\u001b[0m\u001b[0;34m\u001b[0m\u001b[0;34m\u001b[0m\u001b[0m\n\u001b[1;32m   1302\u001b[0m         \"\"\"\n\u001b[0;32m-> 1303\u001b[0;31m         \u001b[0muniqs\u001b[0m \u001b[0;34m=\u001b[0m \u001b[0mself\u001b[0m\u001b[0;34m.\u001b[0m\u001b[0munique\u001b[0m\u001b[0;34m(\u001b[0m\u001b[0;34m)\u001b[0m\u001b[0;34m\u001b[0m\u001b[0;34m\u001b[0m\u001b[0m\n\u001b[0m\u001b[1;32m   1304\u001b[0m         \u001b[0mn\u001b[0m \u001b[0;34m=\u001b[0m \u001b[0mlen\u001b[0m\u001b[0;34m(\u001b[0m\u001b[0muniqs\u001b[0m\u001b[0;34m)\u001b[0m\u001b[0;34m\u001b[0m\u001b[0;34m\u001b[0m\u001b[0m\n\u001b[1;32m   1305\u001b[0m         \u001b[0;32mif\u001b[0m \u001b[0mdropna\u001b[0m \u001b[0;32mand\u001b[0m \u001b[0misna\u001b[0m\u001b[0;34m(\u001b[0m\u001b[0muniqs\u001b[0m\u001b[0;34m)\u001b[0m\u001b[0;34m.\u001b[0m\u001b[0many\u001b[0m\u001b[0;34m(\u001b[0m\u001b[0;34m)\u001b[0m\u001b[0;34m:\u001b[0m\u001b[0;34m\u001b[0m\u001b[0;34m\u001b[0m\u001b[0m\n",
      "\u001b[0;32m/usr/local/lib/python3.8/dist-packages/pandas/core/generic.py\u001b[0m in \u001b[0;36m__getattr__\u001b[0;34m(self, name)\u001b[0m\n\u001b[1;32m   5128\u001b[0m             \u001b[0;32mif\u001b[0m \u001b[0mself\u001b[0m\u001b[0;34m.\u001b[0m\u001b[0m_info_axis\u001b[0m\u001b[0;34m.\u001b[0m\u001b[0m_can_hold_identifiers_and_holds_name\u001b[0m\u001b[0;34m(\u001b[0m\u001b[0mname\u001b[0m\u001b[0;34m)\u001b[0m\u001b[0;34m:\u001b[0m\u001b[0;34m\u001b[0m\u001b[0;34m\u001b[0m\u001b[0m\n\u001b[1;32m   5129\u001b[0m                 \u001b[0;32mreturn\u001b[0m \u001b[0mself\u001b[0m\u001b[0;34m[\u001b[0m\u001b[0mname\u001b[0m\u001b[0;34m]\u001b[0m\u001b[0;34m\u001b[0m\u001b[0;34m\u001b[0m\u001b[0m\n\u001b[0;32m-> 5130\u001b[0;31m             \u001b[0;32mreturn\u001b[0m \u001b[0mobject\u001b[0m\u001b[0;34m.\u001b[0m\u001b[0m__getattribute__\u001b[0m\u001b[0;34m(\u001b[0m\u001b[0mself\u001b[0m\u001b[0;34m,\u001b[0m \u001b[0mname\u001b[0m\u001b[0;34m)\u001b[0m\u001b[0;34m\u001b[0m\u001b[0;34m\u001b[0m\u001b[0m\n\u001b[0m\u001b[1;32m   5131\u001b[0m \u001b[0;34m\u001b[0m\u001b[0m\n\u001b[1;32m   5132\u001b[0m     \u001b[0;32mdef\u001b[0m \u001b[0m__setattr__\u001b[0m\u001b[0;34m(\u001b[0m\u001b[0mself\u001b[0m\u001b[0;34m,\u001b[0m \u001b[0mname\u001b[0m\u001b[0;34m:\u001b[0m \u001b[0mstr\u001b[0m\u001b[0;34m,\u001b[0m \u001b[0mvalue\u001b[0m\u001b[0;34m)\u001b[0m \u001b[0;34m->\u001b[0m \u001b[0;32mNone\u001b[0m\u001b[0;34m:\u001b[0m\u001b[0;34m\u001b[0m\u001b[0;34m\u001b[0m\u001b[0m\n",
      "\u001b[0;31mAttributeError\u001b[0m: 'DataFrame' object has no attribute 'unique'"
     ]
    }
   ],
   "source": [
    "cohort_data = online.groupby('CustomerID').apply(pd.Series.nunique).reset_index()\n",
    "cohort_counts = cohort_data.pivot(index='CohortMonth', columns='CohortIndex', values='CustomerID')"
   ]
  },
  {
   "cell_type": "code",
   "execution_count": null,
   "metadata": {},
   "outputs": [],
   "source": []
  },
  {
   "cell_type": "code",
   "execution_count": null,
   "metadata": {},
   "outputs": [],
   "source": []
  }
 ],
 "metadata": {
  "kernelspec": {
   "display_name": "Python 3",
   "language": "python",
   "name": "python3"
  },
  "language_info": {
   "codemirror_mode": {
    "name": "ipython",
    "version": 3
   },
   "file_extension": ".py",
   "mimetype": "text/x-python",
   "name": "python",
   "nbconvert_exporter": "python",
   "pygments_lexer": "ipython3",
   "version": "3.8.2"
  }
 },
 "nbformat": 4,
 "nbformat_minor": 4
}
