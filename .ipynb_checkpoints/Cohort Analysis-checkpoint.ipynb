{
 "cells": [
  {
   "cell_type": "code",
   "execution_count": null,
   "metadata": {
    "scrolled": true
   },
   "outputs": [],
   "source": [
    "#Import the data\n",
    "\n",
    "import pandas as pd\n",
    "online = pd.read_csv('online.csv')\n",
    "print(online.dtypes)"
   ]
  },
  {
   "cell_type": "code",
   "execution_count": null,
   "metadata": {},
   "outputs": [],
   "source": [
    "#How many customers are here ?\n",
    "\n",
    "customers = online['CustomerID'].value_counts()\n",
    "customers"
   ]
  },
  {
   "cell_type": "code",
   "execution_count": null,
   "metadata": {
    "scrolled": false
   },
   "outputs": [],
   "source": [
    "#remove the time from InvoiceDate\n",
    "\n",
    "import datetime as dt\n",
    "def get_day(x): return dt.datetime(x.year,x.month,x.day)\n",
    "cdate = pd.to_datetime(online['InvoiceDate'])\n",
    "online['InvoiceMonth'] = cdate.apply(get_day)\n",
    "online"
   ]
  },
  {
   "cell_type": "code",
   "execution_count": null,
   "metadata": {},
   "outputs": [],
   "source": [
    "online['CohortMonth'] = online.groupby('CustomerID')['InvoiceMonth'].transform('min')\n",
    "online"
   ]
  },
  {
   "cell_type": "code",
   "execution_count": null,
   "metadata": {
    "scrolled": false
   },
   "outputs": [],
   "source": [
    "def get_date_int(df, column):\n",
    "    year = df[column].dt.year\n",
    "    month = df[column].dt.month\n",
    "    day = df[column].dt.day\n",
    "    return year, month, day\n",
    "    \n",
    "invoice_year, invoice_month, invoice_day = get_date_int(online, 'InvoiceMonth')\n",
    "\n",
    "cohort_year, cohort_month, cohort_day = get_date_int(online, 'CohortMonth')\n",
    "\n",
    "years_diff = invoice_year - cohort_year\n",
    "months_diff = invoice_month - cohort_month\n",
    "days_diff = invoice_day - cohort_day\n",
    "\n",
    "online['CohortIndex'] = years_diff * 365 + months_diff * 30 + days_diff + 1\n",
    "online"
   ]
  },
  {
   "cell_type": "code",
   "execution_count": null,
   "metadata": {},
   "outputs": [],
   "source": [
    "grouping = online.groupby(['CohortMonth','CohortIndex'])\n",
    "cohort_data = grouping['CustomerID'].apply(pd.Series.nunique)\n",
    "cohort_data = cohort_data.reset_index()\n",
    "cohort_counts = cohort_data.pivot(index='CohortMonth' , columns='CohortIndex' , values = 'CustomerID')\n",
    "cohort_counts\n",
    "\n"
   ]
  },
  {
   "cell_type": "code",
   "execution_count": null,
   "metadata": {},
   "outputs": [],
   "source": [
    "cohort_sizes = cohort_counts.iloc[:,0]\n",
    "retention = cohort_counts.divide(cohort_sizes,axis=0)\n",
    "retention.round(3)*100"
   ]
  },
  {
   "cell_type": "code",
   "execution_count": null,
   "metadata": {},
   "outputs": [],
   "source": [
    "# Select the first column and store it to cohort_sizes\n",
    "cohort_sizes = cohort_counts.iloc[:,0]\n",
    "\n",
    "# Divide the cohort count by cohort sizes along the rows\n",
    "retention = cohort_counts.divide(cohort_sizes, axis=0)\n",
    "\n",
    "retention"
   ]
  },
  {
   "cell_type": "code",
   "execution_count": null,
   "metadata": {},
   "outputs": [],
   "source": [
    "import seaborn as sns\n",
    "import matplotlib.pyplot as plt\n",
    "\n",
    "plt.figure(figsize=(10,8))\n",
    "plt.title('Retention rates')\n",
    "\n",
    "sns.heatmap(data = retention , annot = True , fmt = '.0%' ,vmin = 0.0 ,vmax = 0.5 ,cmap = 'BuGn')\n",
    "\n",
    "plt.show()"
   ]
  },
  {
   "cell_type": "code",
   "execution_count": null,
   "metadata": {},
   "outputs": [],
   "source": []
  },
  {
   "cell_type": "code",
   "execution_count": null,
   "metadata": {},
   "outputs": [],
   "source": []
  }
 ],
 "metadata": {
  "kernelspec": {
   "display_name": "Python 3",
   "language": "python",
   "name": "python3"
  },
  "language_info": {
   "codemirror_mode": {
    "name": "ipython",
    "version": 3
   },
   "file_extension": ".py",
   "mimetype": "text/x-python",
   "name": "python",
   "nbconvert_exporter": "python",
   "pygments_lexer": "ipython3",
   "version": "3.8.2"
  }
 },
 "nbformat": 4,
 "nbformat_minor": 4
}
